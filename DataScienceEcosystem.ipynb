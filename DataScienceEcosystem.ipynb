{
 "cells": [
  {
   "cell_type": "markdown",
   "id": "8abddc94-ab09-4df3-ac08-ef3d2f81bcc4",
   "metadata": {},
   "source": [
    "# Data Science Tools and Ecosystem"
   ]
  },
  {
   "cell_type": "markdown",
   "id": "5e16494d-f63a-4607-81be-fdaa1c435834",
   "metadata": {},
   "source": [
    "En este cuaderno, se resumen las herramientas y ecosistemas de ciencia de datos."
   ]
  },
  {
   "cell_type": "markdown",
   "id": "c3a8a42e-8014-4ba0-ba45-6f1bc9a458a7",
   "metadata": {},
   "source": [
    "Algunos de los lenguajes populares que utilizan los científicos de datos son:\n",
    "1. **Python**\n",
    "2. **R**\n",
    "3. **SQL**\n",
    "4. **Julia**\n"
   ]
  },
  {
   "cell_type": "markdown",
   "id": "ba31446b-a2e8-4539-a4f4-d8d960d0fe98",
   "metadata": {},
   "source": [
    "Algunas de las bibliotecas comúnmente utilizadas por los científicos de datos incluyen:\n",
    "1. **Pandas**\n",
    "2. **NumPy**\n",
    "3. **Matplotlib**"
   ]
  },
  {
   "cell_type": "markdown",
   "id": "c734ae6b-03ff-4a05-9bc0-02112633b4c9",
   "metadata": {},
   "source": [
    "| Herramientas de Ciencia de Datos      |\n",
    "|---------------------------------------|\n",
    "| Jupyter Notebook                      |\n",
    "| RStudio                               |\n",
    "| Apache Zeppelin                       |\n"
   ]
  },
  {
   "cell_type": "markdown",
   "id": "ae70e095-c3f9-4bed-b703-f6433453953c",
   "metadata": {},
   "source": [
    "### A continuación se presentan algunos ejemplos de evaluación de expresiones aritméticas en Python.\n",
    "\n",
    "| Herramientas de Ciencia de Datos      |\n",
    "|---------------------------------------|\n",
    "| Jupyter Notebook                      |\n",
    "| RStudio                               |\n",
    "| Apache Zeppelin                       |\n"
   ]
  },
  {
   "cell_type": "code",
   "execution_count": 4,
   "id": "a383e960-8750-4b99-a28e-250ea5e3cb5b",
   "metadata": {},
   "outputs": [
    {
     "data": {
      "text/plain": [
       "17"
      ]
     },
     "execution_count": 4,
     "metadata": {},
     "output_type": "execute_result"
    }
   ],
   "source": [
    "# Esta es una expresión aritmética simple para multiplicar y luego sumar enteros.\n",
    "x = (3 * 4) + 5\n",
    "x"
   ]
  },
  {
   "cell_type": "code",
   "execution_count": 5,
   "id": "218c2db4-91b2-4b2a-bcd0-3729d827bcc0",
   "metadata": {},
   "outputs": [
    {
     "data": {
      "text/plain": [
       "3.3333333333333335"
      ]
     },
     "execution_count": 5,
     "metadata": {},
     "output_type": "execute_result"
    }
   ],
   "source": [
    "# Esto convertirá 200 minutos a horas dividiendo por 60\n",
    "y = 200 / 60\n",
    "y\n"
   ]
  },
  {
   "cell_type": "markdown",
   "id": "48498d6e-f600-4868-a2c3-2bbc7a635a3d",
   "metadata": {},
   "source": [
    "**Objetivos:**\n",
    "\n",
    "* Listar lenguajes populares para Ciencia de Datos.\n",
    "* Enumerar bibliotecas comunes utilizadas en Ciencia de Datos.\n",
    "* Describir herramientas de desarrollo de código abierto para análisis de datos.\n",
    "* Evaluar expresiones aritméticas en Python.\n",
    "* Convertir unidades de tiempo de minutos a horas.\n"
   ]
  },
  {
   "cell_type": "markdown",
   "id": "755bd95c-ddb9-4b83-bb10-cb737d7ff0e2",
   "metadata": {},
   "source": [
    "## Autor\n",
    "\n",
    "Luis Emmanuel Bravo "
   ]
  },
  {
   "cell_type": "code",
   "execution_count": null,
   "id": "ae26d179-b798-4703-891b-042cc826723c",
   "metadata": {},
   "outputs": [],
   "source": []
  }
 ],
 "metadata": {
  "kernelspec": {
   "display_name": "Python 3 (ipykernel)",
   "language": "python",
   "name": "python3"
  },
  "language_info": {
   "codemirror_mode": {
    "name": "ipython",
    "version": 3
   },
   "file_extension": ".py",
   "mimetype": "text/x-python",
   "name": "python",
   "nbconvert_exporter": "python",
   "pygments_lexer": "ipython3",
   "version": "3.11.10"
  }
 },
 "nbformat": 4,
 "nbformat_minor": 5
}
